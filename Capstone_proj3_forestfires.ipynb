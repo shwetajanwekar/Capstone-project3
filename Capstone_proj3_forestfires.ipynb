{
 "cells": [
  {
   "cell_type": "markdown",
   "id": "aaf439e8-1851-4e1b-8387-680d8d138bb2",
   "metadata": {},
   "source": [
    "### importing libraries"
   ]
  },
  {
   "cell_type": "code",
   "execution_count": 68,
   "id": "205b790e-fce1-4cc3-92cb-dcb1cba3feef",
   "metadata": {},
   "outputs": [],
   "source": [
    "import pandas as pd\n",
    "import numpy as np\n",
    "from sklearn.model_selection import train_test_split\n",
    "from sklearn.preprocessing import StandardScaler\n",
    "from sklearn.metrics import mean_squared_error, mean_absolute_error, r2_score\n",
    "from tensorflow.keras.models import Sequential\n",
    "from tensorflow.keras.layers import Dense\n",
    "from tensorflow.keras.optimizers import Adam\n",
    "import matplotlib.pyplot as plt\n",
    "from sklearn.preprocessing import MinMaxScaler"
   ]
  },
  {
   "cell_type": "markdown",
   "id": "dfce083d-3335-4943-89f0-a797e03ed25d",
   "metadata": {},
   "source": [
    "### Load the dataset and displays first two rows\n"
   ]
  },
  {
   "cell_type": "code",
   "execution_count": 44,
   "id": "48126f8c-3524-480d-926e-a83335dacaa2",
   "metadata": {},
   "outputs": [
    {
     "name": "stdout",
     "output_type": "stream",
     "text": [
      "  month  day  FFMC   DMC     DC  ISI  temp  RH  wind  rain  ...  monthfeb  \\\n",
      "0   mar  fri  86.2  26.2   94.3  5.1   8.2  51   6.7   0.0  ...         0   \n",
      "1   oct  tue  90.6  35.4  669.1  6.7  18.0  33   0.9   0.0  ...         0   \n",
      "\n",
      "   monthjan  monthjul  monthjun  monthmar  monthmay  monthnov  monthoct  \\\n",
      "0         0         0         0         1         0         0         0   \n",
      "1         0         0         0         0         0         0         1   \n",
      "\n",
      "   monthsep  size_category  \n",
      "0         0          small  \n",
      "1         0          small  \n",
      "\n",
      "[2 rows x 31 columns]\n"
     ]
    }
   ],
   "source": [
    "data = pd.read_csv('D:/forestfires.csv')\n",
    "print(data.head(2))\n"
   ]
  },
  {
   "cell_type": "code",
   "execution_count": 96,
   "id": "f0c35d42-0e65-466e-84d9-414e077d1415",
   "metadata": {},
   "outputs": [],
   "source": [
    "# Feature selection\n",
    "features = [\n",
    "      'FFMC', 'DMC', 'DC', 'ISI', 'temp', 'RH', 'wind', 'rain']\n",
    "target = ['area' ]\n"
   ]
  },
  {
   "cell_type": "code",
   "execution_count": 98,
   "id": "f9409f34-d539-49f2-aadd-e1764b93a4c4",
   "metadata": {},
   "outputs": [],
   "source": [
    "# Extract features and target variable\n",
    "X = data[features].values\n",
    "y = data[target].values\n"
   ]
  },
  {
   "cell_type": "code",
   "execution_count": 100,
   "id": "343348b8-1e41-4b09-8005-7f4d78c0fba1",
   "metadata": {},
   "outputs": [],
   "source": [
    "X_train, X_test, y_train, y_test = train_test_split(X, y, test_size=0.2, random_state=42)\n"
   ]
  },
  {
   "cell_type": "code",
   "execution_count": 102,
   "id": "8695c043-8b39-4f0f-a7db-6dd73b3c4582",
   "metadata": {},
   "outputs": [],
   "source": [
    "# Standardize the features\n",
    "scaler = StandardScaler()\n",
    "X_train = scaler.fit_transform(X_train)\n",
    "X_test = scaler.transform(X_test)\n"
   ]
  },
  {
   "cell_type": "code",
   "execution_count": 104,
   "id": "a27424fb-4165-4bf5-8196-8e6a149feb2e",
   "metadata": {},
   "outputs": [
    {
     "name": "stderr",
     "output_type": "stream",
     "text": [
      "D:\\anaconda\\Lib\\site-packages\\keras\\src\\layers\\core\\dense.py:87: UserWarning: Do not pass an `input_shape`/`input_dim` argument to a layer. When using Sequential models, prefer using an `Input(shape)` object as the first layer in the model instead.\n",
      "  super().__init__(activity_regularizer=activity_regularizer, **kwargs)\n"
     ]
    }
   ],
   "source": [
    "# Define the neural network model\n",
    "model = Sequential()\n",
    "model.add(Dense(units=64, activation='relu', input_dim=X_train.shape[1]))\n",
    "model.add(Dense(units=32, activation='relu'))\n",
    "model.add(Dense(units=1))  # Output layer for regression\n",
    "\n"
   ]
  },
  {
   "cell_type": "code",
   "execution_count": 110,
   "id": "290e2627-31a8-4b08-9d68-3ac5c17640a1",
   "metadata": {},
   "outputs": [],
   "source": [
    "# Compile the model\n",
    "model.compile(optimizer=Adam(learning_rate=0.001), loss='mean_squared_error',metrics=[\"accuracy\"])\n"
   ]
  },
  {
   "cell_type": "code",
   "execution_count": 124,
   "id": "f6214d2a-a28d-4952-be40-45a00161f6b0",
   "metadata": {},
   "outputs": [
    {
     "name": "stdout",
     "output_type": "stream",
     "text": [
      "Epoch 1/50\n",
      "\u001b[1m11/11\u001b[0m \u001b[32m━━━━━━━━━━━━━━━━━━━━\u001b[0m\u001b[37m\u001b[0m \u001b[1m4s\u001b[0m 127ms/step - accuracy: 0.0095 - loss: 3371.0632 - val_accuracy: 0.0000e+00 - val_loss: 573.6151\n",
      "Epoch 2/50\n",
      "\u001b[1m11/11\u001b[0m \u001b[32m━━━━━━━━━━━━━━━━━━━━\u001b[0m\u001b[37m\u001b[0m \u001b[1m1s\u001b[0m 10ms/step - accuracy: 0.0089 - loss: 1354.2382 - val_accuracy: 0.0000e+00 - val_loss: 573.0585\n",
      "Epoch 3/50\n",
      "\u001b[1m11/11\u001b[0m \u001b[32m━━━━━━━━━━━━━━━━━━━━\u001b[0m\u001b[37m\u001b[0m \u001b[1m0s\u001b[0m 7ms/step - accuracy: 0.0028 - loss: 2950.8806 - val_accuracy: 0.0000e+00 - val_loss: 578.7197\n",
      "Epoch 4/50\n",
      "\u001b[1m11/11\u001b[0m \u001b[32m━━━━━━━━━━━━━━━━━━━━\u001b[0m\u001b[37m\u001b[0m \u001b[1m0s\u001b[0m 7ms/step - accuracy: 0.0050 - loss: 2049.1765 - val_accuracy: 0.0000e+00 - val_loss: 581.2250\n",
      "Epoch 5/50\n",
      "\u001b[1m11/11\u001b[0m \u001b[32m━━━━━━━━━━━━━━━━━━━━\u001b[0m\u001b[37m\u001b[0m \u001b[1m0s\u001b[0m 7ms/step - accuracy: 0.0063 - loss: 2129.6726 - val_accuracy: 0.0000e+00 - val_loss: 582.8890\n",
      "Epoch 6/50\n",
      "\u001b[1m11/11\u001b[0m \u001b[32m━━━━━━━━━━━━━━━━━━━━\u001b[0m\u001b[37m\u001b[0m \u001b[1m0s\u001b[0m 8ms/step - accuracy: 0.0053 - loss: 2642.7405 - val_accuracy: 0.0000e+00 - val_loss: 584.4166\n",
      "Epoch 7/50\n",
      "\u001b[1m11/11\u001b[0m \u001b[32m━━━━━━━━━━━━━━━━━━━━\u001b[0m\u001b[37m\u001b[0m \u001b[1m0s\u001b[0m 8ms/step - accuracy: 0.0035 - loss: 4847.0557 - val_accuracy: 0.0000e+00 - val_loss: 583.9636\n",
      "Epoch 8/50\n",
      "\u001b[1m11/11\u001b[0m \u001b[32m━━━━━━━━━━━━━━━━━━━━\u001b[0m\u001b[37m\u001b[0m \u001b[1m0s\u001b[0m 10ms/step - accuracy: 0.0047 - loss: 1265.7882 - val_accuracy: 0.0000e+00 - val_loss: 582.4930\n",
      "Epoch 9/50\n",
      "\u001b[1m11/11\u001b[0m \u001b[32m━━━━━━━━━━━━━━━━━━━━\u001b[0m\u001b[37m\u001b[0m \u001b[1m0s\u001b[0m 8ms/step - accuracy: 0.0137 - loss: 2882.3345 - val_accuracy: 0.0000e+00 - val_loss: 590.0883\n",
      "Epoch 10/50\n",
      "\u001b[1m11/11\u001b[0m \u001b[32m━━━━━━━━━━━━━━━━━━━━\u001b[0m\u001b[37m\u001b[0m \u001b[1m0s\u001b[0m 9ms/step - accuracy: 0.0011 - loss: 2639.2563 - val_accuracy: 0.0000e+00 - val_loss: 593.8080\n",
      "Epoch 11/50\n",
      "\u001b[1m11/11\u001b[0m \u001b[32m━━━━━━━━━━━━━━━━━━━━\u001b[0m\u001b[37m\u001b[0m \u001b[1m0s\u001b[0m 10ms/step - accuracy: 0.0081 - loss: 1407.2202 - val_accuracy: 0.0000e+00 - val_loss: 592.0418\n",
      "Epoch 12/50\n",
      "\u001b[1m11/11\u001b[0m \u001b[32m━━━━━━━━━━━━━━━━━━━━\u001b[0m\u001b[37m\u001b[0m \u001b[1m0s\u001b[0m 8ms/step - accuracy: 0.0018 - loss: 1540.9080 - val_accuracy: 0.0000e+00 - val_loss: 592.1333\n",
      "Epoch 13/50\n",
      "\u001b[1m11/11\u001b[0m \u001b[32m━━━━━━━━━━━━━━━━━━━━\u001b[0m\u001b[37m\u001b[0m \u001b[1m0s\u001b[0m 9ms/step - accuracy: 0.0042 - loss: 2800.7856 - val_accuracy: 0.0000e+00 - val_loss: 592.4578\n",
      "Epoch 14/50\n",
      "\u001b[1m11/11\u001b[0m \u001b[32m━━━━━━━━━━━━━━━━━━━━\u001b[0m\u001b[37m\u001b[0m \u001b[1m0s\u001b[0m 7ms/step - accuracy: 0.0055 - loss: 4737.5244 - val_accuracy: 0.0000e+00 - val_loss: 590.8185\n",
      "Epoch 15/50\n",
      "\u001b[1m11/11\u001b[0m \u001b[32m━━━━━━━━━━━━━━━━━━━━\u001b[0m\u001b[37m\u001b[0m \u001b[1m0s\u001b[0m 7ms/step - accuracy: 0.0150 - loss: 1435.2805 - val_accuracy: 0.0000e+00 - val_loss: 586.2312\n",
      "Epoch 16/50\n",
      "\u001b[1m11/11\u001b[0m \u001b[32m━━━━━━━━━━━━━━━━━━━━\u001b[0m\u001b[37m\u001b[0m \u001b[1m0s\u001b[0m 7ms/step - accuracy: 0.0080 - loss: 4568.1558 - val_accuracy: 0.0000e+00 - val_loss: 588.0242\n",
      "Epoch 17/50\n",
      "\u001b[1m11/11\u001b[0m \u001b[32m━━━━━━━━━━━━━━━━━━━━\u001b[0m\u001b[37m\u001b[0m \u001b[1m0s\u001b[0m 24ms/step - accuracy: 0.0124 - loss: 1041.1403 - val_accuracy: 0.0000e+00 - val_loss: 586.6299\n",
      "Epoch 18/50\n",
      "\u001b[1m11/11\u001b[0m \u001b[32m━━━━━━━━━━━━━━━━━━━━\u001b[0m\u001b[37m\u001b[0m \u001b[1m0s\u001b[0m 12ms/step - accuracy: 0.0206 - loss: 1977.1843 - val_accuracy: 0.0000e+00 - val_loss: 587.1551\n",
      "Epoch 19/50\n",
      "\u001b[1m11/11\u001b[0m \u001b[32m━━━━━━━━━━━━━━━━━━━━\u001b[0m\u001b[37m\u001b[0m \u001b[1m0s\u001b[0m 6ms/step - accuracy: 0.0165 - loss: 2225.2708 - val_accuracy: 0.0000e+00 - val_loss: 588.7537\n",
      "Epoch 20/50\n",
      "\u001b[1m11/11\u001b[0m \u001b[32m━━━━━━━━━━━━━━━━━━━━\u001b[0m\u001b[37m\u001b[0m \u001b[1m0s\u001b[0m 7ms/step - accuracy: 0.0144 - loss: 2160.1479 - val_accuracy: 0.0000e+00 - val_loss: 587.4325\n",
      "Epoch 21/50\n",
      "\u001b[1m11/11\u001b[0m \u001b[32m━━━━━━━━━━━━━━━━━━━━\u001b[0m\u001b[37m\u001b[0m \u001b[1m0s\u001b[0m 7ms/step - accuracy: 0.0093 - loss: 1656.3925 - val_accuracy: 0.0000e+00 - val_loss: 587.2136\n",
      "Epoch 22/50\n",
      "\u001b[1m11/11\u001b[0m \u001b[32m━━━━━━━━━━━━━━━━━━━━\u001b[0m\u001b[37m\u001b[0m \u001b[1m0s\u001b[0m 7ms/step - accuracy: 0.0079 - loss: 4732.1304 - val_accuracy: 0.0000e+00 - val_loss: 590.4061\n",
      "Epoch 23/50\n",
      "\u001b[1m11/11\u001b[0m \u001b[32m━━━━━━━━━━━━━━━━━━━━\u001b[0m\u001b[37m\u001b[0m \u001b[1m0s\u001b[0m 8ms/step - accuracy: 0.0139 - loss: 2855.7363 - val_accuracy: 0.0000e+00 - val_loss: 590.4662\n",
      "Epoch 24/50\n",
      "\u001b[1m11/11\u001b[0m \u001b[32m━━━━━━━━━━━━━━━━━━━━\u001b[0m\u001b[37m\u001b[0m \u001b[1m0s\u001b[0m 7ms/step - accuracy: 0.0130 - loss: 1027.8361 - val_accuracy: 0.0000e+00 - val_loss: 589.9842\n",
      "Epoch 25/50\n",
      "\u001b[1m11/11\u001b[0m \u001b[32m━━━━━━━━━━━━━━━━━━━━\u001b[0m\u001b[37m\u001b[0m \u001b[1m0s\u001b[0m 8ms/step - accuracy: 0.0070 - loss: 2886.0220 - val_accuracy: 0.0120 - val_loss: 604.7187\n",
      "Epoch 26/50\n",
      "\u001b[1m11/11\u001b[0m \u001b[32m━━━━━━━━━━━━━━━━━━━━\u001b[0m\u001b[37m\u001b[0m \u001b[1m0s\u001b[0m 7ms/step - accuracy: 0.0151 - loss: 3393.1816 - val_accuracy: 0.0120 - val_loss: 605.6530\n",
      "Epoch 27/50\n",
      "\u001b[1m11/11\u001b[0m \u001b[32m━━━━━━━━━━━━━━━━━━━━\u001b[0m\u001b[37m\u001b[0m \u001b[1m0s\u001b[0m 7ms/step - accuracy: 0.0108 - loss: 3471.5444 - val_accuracy: 0.0120 - val_loss: 600.3368\n",
      "Epoch 28/50\n",
      "\u001b[1m11/11\u001b[0m \u001b[32m━━━━━━━━━━━━━━━━━━━━\u001b[0m\u001b[37m\u001b[0m \u001b[1m0s\u001b[0m 8ms/step - accuracy: 0.0142 - loss: 2351.7966 - val_accuracy: 0.0000e+00 - val_loss: 598.9221\n",
      "Epoch 29/50\n",
      "\u001b[1m11/11\u001b[0m \u001b[32m━━━━━━━━━━━━━━━━━━━━\u001b[0m\u001b[37m\u001b[0m \u001b[1m0s\u001b[0m 9ms/step - accuracy: 0.0216 - loss: 2144.3647 - val_accuracy: 0.0000e+00 - val_loss: 597.7415\n",
      "Epoch 30/50\n",
      "\u001b[1m11/11\u001b[0m \u001b[32m━━━━━━━━━━━━━━━━━━━━\u001b[0m\u001b[37m\u001b[0m \u001b[1m0s\u001b[0m 8ms/step - accuracy: 0.0220 - loss: 3661.3394 - val_accuracy: 0.0000e+00 - val_loss: 600.5715\n",
      "Epoch 31/50\n",
      "\u001b[1m11/11\u001b[0m \u001b[32m━━━━━━━━━━━━━━━━━━━━\u001b[0m\u001b[37m\u001b[0m \u001b[1m0s\u001b[0m 7ms/step - accuracy: 0.0192 - loss: 3247.3284 - val_accuracy: 0.0000e+00 - val_loss: 597.9385\n",
      "Epoch 32/50\n",
      "\u001b[1m11/11\u001b[0m \u001b[32m━━━━━━━━━━━━━━━━━━━━\u001b[0m\u001b[37m\u001b[0m \u001b[1m0s\u001b[0m 8ms/step - accuracy: 0.0127 - loss: 1324.4124 - val_accuracy: 0.0000e+00 - val_loss: 598.6796\n",
      "Epoch 33/50\n",
      "\u001b[1m11/11\u001b[0m \u001b[32m━━━━━━━━━━━━━━━━━━━━\u001b[0m\u001b[37m\u001b[0m \u001b[1m0s\u001b[0m 11ms/step - accuracy: 0.0169 - loss: 1662.0627 - val_accuracy: 0.0000e+00 - val_loss: 599.3690\n",
      "Epoch 34/50\n",
      "\u001b[1m11/11\u001b[0m \u001b[32m━━━━━━━━━━━━━━━━━━━━\u001b[0m\u001b[37m\u001b[0m \u001b[1m0s\u001b[0m 12ms/step - accuracy: 0.0129 - loss: 4701.0137 - val_accuracy: 0.0241 - val_loss: 598.5072\n",
      "Epoch 35/50\n",
      "\u001b[1m11/11\u001b[0m \u001b[32m━━━━━━━━━━━━━━━━━━━━\u001b[0m\u001b[37m\u001b[0m \u001b[1m0s\u001b[0m 7ms/step - accuracy: 0.0216 - loss: 1575.8752 - val_accuracy: 0.0361 - val_loss: 596.7763\n",
      "Epoch 36/50\n",
      "\u001b[1m11/11\u001b[0m \u001b[32m━━━━━━━━━━━━━━━━━━━━\u001b[0m\u001b[37m\u001b[0m \u001b[1m0s\u001b[0m 9ms/step - accuracy: 0.0239 - loss: 1599.3557 - val_accuracy: 0.0120 - val_loss: 598.0850\n",
      "Epoch 37/50\n",
      "\u001b[1m11/11\u001b[0m \u001b[32m━━━━━━━━━━━━━━━━━━━━\u001b[0m\u001b[37m\u001b[0m \u001b[1m0s\u001b[0m 8ms/step - accuracy: 0.0192 - loss: 1666.3094 - val_accuracy: 0.0120 - val_loss: 598.1464\n",
      "Epoch 38/50\n",
      "\u001b[1m11/11\u001b[0m \u001b[32m━━━━━━━━━━━━━━━━━━━━\u001b[0m\u001b[37m\u001b[0m \u001b[1m0s\u001b[0m 8ms/step - accuracy: 0.0208 - loss: 2250.8403 - val_accuracy: 0.0120 - val_loss: 599.9120\n",
      "Epoch 39/50\n",
      "\u001b[1m11/11\u001b[0m \u001b[32m━━━━━━━━━━━━━━━━━━━━\u001b[0m\u001b[37m\u001b[0m \u001b[1m0s\u001b[0m 8ms/step - accuracy: 0.0119 - loss: 1948.0277 - val_accuracy: 0.0120 - val_loss: 603.9559\n",
      "Epoch 40/50\n",
      "\u001b[1m11/11\u001b[0m \u001b[32m━━━━━━━━━━━━━━━━━━━━\u001b[0m\u001b[37m\u001b[0m \u001b[1m0s\u001b[0m 9ms/step - accuracy: 0.0150 - loss: 1850.8236 - val_accuracy: 0.0120 - val_loss: 601.5401\n",
      "Epoch 41/50\n",
      "\u001b[1m11/11\u001b[0m \u001b[32m━━━━━━━━━━━━━━━━━━━━\u001b[0m\u001b[37m\u001b[0m \u001b[1m0s\u001b[0m 9ms/step - accuracy: 0.0281 - loss: 1217.8047 - val_accuracy: 0.0120 - val_loss: 599.6134\n",
      "Epoch 42/50\n",
      "\u001b[1m11/11\u001b[0m \u001b[32m━━━━━━━━━━━━━━━━━━━━\u001b[0m\u001b[37m\u001b[0m \u001b[1m0s\u001b[0m 9ms/step - accuracy: 0.0203 - loss: 2867.3892 - val_accuracy: 0.0241 - val_loss: 602.3523\n",
      "Epoch 43/50\n",
      "\u001b[1m11/11\u001b[0m \u001b[32m━━━━━━━━━━━━━━━━━━━━\u001b[0m\u001b[37m\u001b[0m \u001b[1m0s\u001b[0m 8ms/step - accuracy: 0.0218 - loss: 1386.6687 - val_accuracy: 0.0241 - val_loss: 603.5540\n",
      "Epoch 44/50\n",
      "\u001b[1m11/11\u001b[0m \u001b[32m━━━━━━━━━━━━━━━━━━━━\u001b[0m\u001b[37m\u001b[0m \u001b[1m0s\u001b[0m 13ms/step - accuracy: 0.0227 - loss: 3015.5178 - val_accuracy: 0.0241 - val_loss: 607.4166\n",
      "Epoch 45/50\n",
      "\u001b[1m11/11\u001b[0m \u001b[32m━━━━━━━━━━━━━━━━━━━━\u001b[0m\u001b[37m\u001b[0m \u001b[1m0s\u001b[0m 9ms/step - accuracy: 0.0220 - loss: 4798.1416 - val_accuracy: 0.0241 - val_loss: 612.0220\n",
      "Epoch 46/50\n",
      "\u001b[1m11/11\u001b[0m \u001b[32m━━━━━━━━━━━━━━━━━━━━\u001b[0m\u001b[37m\u001b[0m \u001b[1m0s\u001b[0m 8ms/step - accuracy: 0.0182 - loss: 3293.4727 - val_accuracy: 0.0241 - val_loss: 609.2222\n",
      "Epoch 47/50\n",
      "\u001b[1m11/11\u001b[0m \u001b[32m━━━━━━━━━━━━━━━━━━━━\u001b[0m\u001b[37m\u001b[0m \u001b[1m0s\u001b[0m 8ms/step - accuracy: 0.0272 - loss: 1649.7947 - val_accuracy: 0.0361 - val_loss: 606.0601\n",
      "Epoch 48/50\n",
      "\u001b[1m11/11\u001b[0m \u001b[32m━━━━━━━━━━━━━━━━━━━━\u001b[0m\u001b[37m\u001b[0m \u001b[1m0s\u001b[0m 9ms/step - accuracy: 0.0222 - loss: 2244.4590 - val_accuracy: 0.0361 - val_loss: 605.8875\n",
      "Epoch 49/50\n",
      "\u001b[1m11/11\u001b[0m \u001b[32m━━━━━━━━━━━━━━━━━━━━\u001b[0m\u001b[37m\u001b[0m \u001b[1m0s\u001b[0m 9ms/step - accuracy: 0.0306 - loss: 2138.9856 - val_accuracy: 0.0361 - val_loss: 608.1866\n",
      "Epoch 50/50\n",
      "\u001b[1m11/11\u001b[0m \u001b[32m━━━━━━━━━━━━━━━━━━━━\u001b[0m\u001b[37m\u001b[0m \u001b[1m0s\u001b[0m 8ms/step - accuracy: 0.0173 - loss: 2435.8728 - val_accuracy: 0.0361 - val_loss: 609.3810\n"
     ]
    }
   ],
   "source": [
    "# Train the model\n",
    "history = model.fit(X_train, y_train, epochs=50,validation_split=0.2,  )\n"
   ]
  },
  {
   "cell_type": "code",
   "execution_count": 112,
   "id": "5696b6e7-d6d0-4efe-80bb-2ae29316096a",
   "metadata": {},
   "outputs": [
    {
     "name": "stdout",
     "output_type": "stream",
     "text": [
      "Test Loss: [11709.140625, 0.009615384973585606]\n",
      "Accuracy: [11709.140625, 0.009615384973585606]\n"
     ]
    }
   ],
   "source": [
    "# Evaluate the model\n",
    "loss_and_metrics = model.evaluate(X_test, y_test, verbose=0)\n",
    "print(f'Test Loss: {loss_and_metrics}')\n",
    "print(f'Accuracy: {loss_and_metrics}')\n",
    "\n"
   ]
  },
  {
   "cell_type": "code",
   "execution_count": 128,
   "id": "ee1b9aed-bde6-49c3-811a-f348e44b0308",
   "metadata": {},
   "outputs": [
    {
     "name": "stdout",
     "output_type": "stream",
     "text": [
      "\u001b[1m4/4\u001b[0m \u001b[32m━━━━━━━━━━━━━━━━━━━━\u001b[0m\u001b[37m\u001b[0m \u001b[1m0s\u001b[0m 0s/step  \n"
     ]
    },
    {
     "data": {
      "text/plain": [
       "array([[ 18.474157  ],\n",
       "       [  1.9586952 ],\n",
       "       [ 33.86939   ],\n",
       "       [  4.2877765 ],\n",
       "       [ 10.104067  ],\n",
       "       [  4.3719172 ],\n",
       "       [  8.337936  ],\n",
       "       [ 17.50407   ],\n",
       "       [ 12.531827  ],\n",
       "       [  5.6344757 ],\n",
       "       [ 27.237783  ],\n",
       "       [  7.8055058 ],\n",
       "       [  1.0798779 ],\n",
       "       [ 15.054226  ],\n",
       "       [  5.919997  ],\n",
       "       [  5.57727   ],\n",
       "       [  5.375578  ],\n",
       "       [ -0.81735086],\n",
       "       [ 12.455433  ],\n",
       "       [ 15.069041  ],\n",
       "       [  8.666745  ],\n",
       "       [  0.15706922],\n",
       "       [  6.528972  ],\n",
       "       [ 12.690588  ],\n",
       "       [  6.5867386 ],\n",
       "       [ 19.360142  ],\n",
       "       [  2.2601793 ],\n",
       "       [ 22.95559   ],\n",
       "       [ 16.882456  ],\n",
       "       [ 14.179013  ],\n",
       "       [ 10.857568  ],\n",
       "       [ 19.982859  ],\n",
       "       [ 14.017409  ],\n",
       "       [ 13.048285  ],\n",
       "       [  5.044548  ],\n",
       "       [ -4.136302  ],\n",
       "       [ -2.4769123 ],\n",
       "       [ 22.946371  ],\n",
       "       [  8.058755  ],\n",
       "       [ 10.017752  ],\n",
       "       [ 25.641062  ],\n",
       "       [ 12.690588  ],\n",
       "       [  0.5348022 ],\n",
       "       [ 16.87429   ],\n",
       "       [ 38.54323   ],\n",
       "       [  9.030651  ],\n",
       "       [ 10.983802  ],\n",
       "       [  6.5703526 ],\n",
       "       [ 15.748841  ],\n",
       "       [  0.9128642 ],\n",
       "       [  5.305223  ],\n",
       "       [ 20.021587  ],\n",
       "       [  5.478962  ],\n",
       "       [ 11.139429  ],\n",
       "       [ 10.399398  ],\n",
       "       [  2.5581641 ],\n",
       "       [  5.5213265 ],\n",
       "       [  7.5842943 ],\n",
       "       [ 10.408983  ],\n",
       "       [  6.1962276 ],\n",
       "       [  6.3642364 ],\n",
       "       [  7.1812363 ],\n",
       "       [ 14.89967   ],\n",
       "       [  5.1619606 ],\n",
       "       [ 16.667305  ],\n",
       "       [ 19.361916  ],\n",
       "       [  9.967135  ],\n",
       "       [ 23.915024  ],\n",
       "       [  1.0303315 ],\n",
       "       [  8.593446  ],\n",
       "       [ -7.583195  ],\n",
       "       [ 16.234753  ],\n",
       "       [-40.202198  ],\n",
       "       [ 12.970951  ],\n",
       "       [  5.6216154 ],\n",
       "       [  2.0820267 ],\n",
       "       [ 23.494133  ],\n",
       "       [ 28.845894  ],\n",
       "       [ 27.655357  ],\n",
       "       [  5.013023  ],\n",
       "       [  7.6161904 ],\n",
       "       [ 27.389591  ],\n",
       "       [ 27.237783  ],\n",
       "       [  3.690245  ],\n",
       "       [  5.247028  ],\n",
       "       [  7.5257826 ],\n",
       "       [  4.846606  ],\n",
       "       [  7.3975472 ],\n",
       "       [  7.027106  ],\n",
       "       [  4.125919  ],\n",
       "       [ 10.015235  ],\n",
       "       [  7.9699326 ],\n",
       "       [  5.745993  ],\n",
       "       [  3.4209037 ],\n",
       "       [  7.7287126 ],\n",
       "       [  7.1371293 ],\n",
       "       [  2.3195813 ],\n",
       "       [  8.763335  ],\n",
       "       [ 43.74963   ],\n",
       "       [  8.015463  ],\n",
       "       [  6.669969  ],\n",
       "       [ -3.7216048 ],\n",
       "       [ 17.110949  ],\n",
       "       [ 12.174339  ]], dtype=float32)"
      ]
     },
     "execution_count": 128,
     "metadata": {},
     "output_type": "execute_result"
    }
   ],
   "source": [
    "# Make predictions on the test set\n",
    "predict = model.predict(X_test)\n",
    "predict"
   ]
  },
  {
   "cell_type": "code",
   "execution_count": 116,
   "id": "1d60cd0f-c124-4820-b4b5-aaa008b05991",
   "metadata": {},
   "outputs": [
    {
     "name": "stdout",
     "output_type": "stream",
     "text": [
      "\u001b[1m4/4\u001b[0m \u001b[32m━━━━━━━━━━━━━━━━━━━━\u001b[0m\u001b[37m\u001b[0m \u001b[1m0s\u001b[0m 3ms/step \n",
      "Mean Squared Error (MSE): 11709.141079998688\n",
      "Mean Absolute Error (MAE): 23.456132181057562\n",
      "R-squared (R²): 0.006669717280198384\n"
     ]
    }
   ],
   "source": [
    "# Make predictions on the test set\n",
    "predict = model.predict(X_test)\n",
    "\n",
    "# Calculate regression metrics\n",
    "mse = mean_squared_error(y_test, predict)\n",
    "mae = mean_absolute_error(y_test, predict)\n",
    "r2 = r2_score(y_test, predict)\n",
    "\n",
    "print(f'Mean Squared Error (MSE): {mse}')\n",
    "print(f'Mean Absolute Error (MAE): {mae}')\n",
    "print(f'R-squared (R²): {r2}')\n"
   ]
  },
  {
   "cell_type": "code",
   "execution_count": 126,
   "id": "75dbd85e-cac1-4972-bf3f-323d3798288a",
   "metadata": {},
   "outputs": [
    {
     "data": {
      "image/png": "[encoded data removed]",
      "text/plain": [
       "<Figure size 1200x600 with 1 Axes>"
      ]
     },
     "metadata": {},
     "output_type": "display_data"
    }
   ],
   "source": [
    "# Plot training history\n",
    "plt.figure(figsize=(12, 6))\n",
    "plt.plot(history.history['loss'], label='Training Loss')\n",
    "plt.plot(history.history['val_loss'], label='Validation Loss')\n",
    "plt.xlabel('Epoch')\n",
    "plt.ylabel('Loss')\n",
    "plt.legend()\n",
    "plt.title('Training and Validation Loss')\n",
    "plt.show()\n"
   ]
  },
  {
   "cell_type": "code",
   "execution_count": 122,
   "id": "636b32d2-1778-455b-a59c-cb894a5edc17",
   "metadata": {},
   "outputs": [
    {
     "data": {
      "image/png": "[encoded data removed]",
      "text/plain": [
       "<Figure size 1000x600 with 1 Axes>"
      ]
     },
     "metadata": {},
     "output_type": "display_data"
    }
   ],
   "source": [
    "# Plot predictions vs actual values\n",
    "plt.figure(figsize=(10, 6))\n",
    "plt.scatter(y_test, predict, alpha=0.5, edgecolors='w', linewidth=0.5)\n",
    "plt.plot([min(y_test), max(y_test)], [min(y_test), max(y_test)], 'r--', lw=2)  \n",
    "plt.xlabel('Actual Burned Area')\n",
    "plt.ylabel('Predicted Burned Area')\n",
    "plt.title('Prediction vs Actual Burned Area')\n",
    "plt.show()\n"
   ]
  },
  {
   "cell_type": "code",
   "execution_count": null,
   "id": "d2eaf036-9302-4e7e-8855-676065971664",
   "metadata": {},
   "outputs": [],
   "source": []
  }
 ],
 "metadata": {
  "kernelspec": {
   "display_name": "Python 3 (ipykernel)",
   "language": "python",
   "name": "python3"
  },
  "language_info": {
   "codemirror_mode": {
    "name": "ipython",
    "version": 3
   },
   "file_extension": ".py",
   "mimetype": "text/x-python",
   "name": "python",
   "nbconvert_exporter": "python",
   "pygments_lexer": "ipython3",
   "version": "3.12.4"
  }
 },
 "nbformat": 4,
 "nbformat_minor": 5
}
